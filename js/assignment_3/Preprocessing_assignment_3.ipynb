{
 "cells": [
  {
   "cell_type": "code",
   "execution_count": 88,
   "id": "74cc1882-e528-4eb2-88ae-4c48e2280f3c",
   "metadata": {},
   "outputs": [
    {
     "name": "stdout",
     "output_type": "stream",
     "text": [
      "processing ..../Desktop/data-vis/assignment_3_preprocessing/min_data.txt\n",
      "processing ..../Desktop/data-vis/assignment_3_preprocessing/max_data.txt\n",
      "processing ..../Desktop/data-vis/assignment_3_preprocessing/average_data.txt\n"
     ]
    }
   ],
   "source": [
    "import pandas as pd\n",
    "import os\n",
    "\n",
    "# Function to convert the state code and date to year and month\n",
    "def convert_to_date(row):\n",
    "    state_code = row['data'][:3]\n",
    "    date = row['data'][3:]\n",
    "    year = date[-4:]\n",
    "    month = row['month'].split('_')[-1]  # Extracting the month number from the 'month' column\n",
    "    return pd.Series([state_code, year, month, row['temp']], index=['stateCode', 'year', 'month', 'temperature'])\n",
    "\n",
    "# List to store individual DataFrames\n",
    "dfs = []\n",
    "data_directory = \"./Desktop/data-vis/assignment_3_preprocessing\"\n",
    "\n",
    "txt_files = [file for file in os.listdir(data_directory) if file.endswith(\".txt\")]\n",
    "\n",
    "# Process each file\n",
    "for file_name in txt_files:\n",
    "    file_path = os.path.join(data_directory, file_name)\n",
    "    print(\"processing ...\" + file_path)\n",
    "    \n",
    "    columns = ['data'] + [f'temp_{i}' for i in range(1, 13)]\n",
    "    df = pd.read_csv(file_path, delim_whitespace=True, header=None, names=columns, dtype={'data': str})\n",
    "\n",
    "    # Reshape the data using melt to have a single column for temperatures\n",
    "    df = pd.melt(df, id_vars=['data'], value_vars=[f'temp_{i}' for i in range(1, 13)], var_name='month', value_name='temp')\n",
    "\n",
    "    # Apply the conversion function to create new columns\n",
    "    df[['stateCode', 'year', 'month', file_name.split('_')[0]]] = df.apply(convert_to_date, axis=1)\n",
    "\n",
    "    # Drop unnecessary columns\n",
    "    df = df[['stateCode', 'year', 'month', file_name.split('_')[0]]]\n",
    "\n",
    "    # Append the DataFrame to the list\n",
    "    dfs.append(df)\n",
    "\n",
    "# Concatenate all DataFrames into one\n",
    "final_df = pd.concat(dfs, ignore_index=True)\n",
    "\n",
    "# Print the final DataFrame\n"
   ]
  },
  {
   "cell_type": "code",
   "execution_count": 90,
   "id": "522a7cf8-f4c2-4e73-8ca3-380461d7650c",
   "metadata": {},
   "outputs": [
    {
     "name": "stdout",
     "output_type": "stream",
     "text": [
      "  stateCode  year month   min\n",
      "0       001  1895     1  33.4\n",
      "  stateCode  year month   max\n",
      "0       001  1895     1  52.7\n",
      "  stateCode  year month  average\n",
      "0       001  1895     1     43.1\n"
     ]
    }
   ],
   "source": [
    "print(dfs[0].sort_values(by=['stateCode', 'year']).head(1))\n",
    "print(dfs[1].sort_values(by=['stateCode', 'year']).head(1))\n",
    "print(dfs[2].sort_values(by=['stateCode', 'year']).head(1))\n"
   ]
  },
  {
   "cell_type": "code",
   "execution_count": 98,
   "id": "3add7cc1-033a-448f-8e29-9739d4945066",
   "metadata": {},
   "outputs": [],
   "source": [
    "merged_df_temp = pd.merge(dfs[0], dfs[1], on=['stateCode', 'year', 'month'])\n",
    "merged_df = pd.merge(merged_df_temp, dfs[2], on=['stateCode', 'year', 'month'])\n",
    "merged_df = merged_df.sort_values(by=['stateCode', 'year'])"
   ]
  },
  {
   "cell_type": "code",
   "execution_count": 101,
   "id": "0f73de6c-a78d-4069-92bf-29d305d270d6",
   "metadata": {},
   "outputs": [],
   "source": [
    "merged_df.to_csv(data_directory + \"/merged_results.csv\", encoding='utf-8', index=False)\n"
   ]
  },
  {
   "cell_type": "code",
   "execution_count": 102,
   "id": "9a86de99-59a0-4bcb-9573-6f3d69c3deab",
   "metadata": {},
   "outputs": [],
   "source": [
    "dfs[0].sort_values(by=['stateCode', 'year']).to_csv(data_directory + \"/min.csv\", encoding='utf-8', index=False)\n",
    "dfs[1].sort_values(by=['stateCode', 'year']).to_csv(data_directory + \"/max.csv\", encoding='utf-8', index=False)\n",
    "dfs[2].sort_values(by=['stateCode', 'year']).to_csv(data_directory + \"/average.csv\", encoding='utf-8', index=False)"
   ]
  },
  {
   "cell_type": "code",
   "execution_count": 114,
   "id": "5527b9dc-00f7-4be0-a65a-7874f4e35dc3",
   "metadata": {},
   "outputs": [
    {
     "name": "stdout",
     "output_type": "stream",
     "text": [
      "   stateCode  year    min    max\n",
      "0        001  1895  50.21  73.07\n",
      "1        001  1896  52.77  75.78\n",
      "2        001  1897  52.46  75.92\n",
      "3        001  1898  51.73  74.22\n",
      "4        001  1899  51.33  74.90\n",
      "5        001  1900  51.99  74.81\n",
      "6        001  1901  49.19  73.58\n",
      "7        001  1902  51.64  75.52\n",
      "8        001  1903  50.26  73.69\n",
      "9        001  1904  50.22  75.32\n",
      "10       001  1905  51.32  73.96\n",
      "11       001  1906  51.41  75.12\n",
      "12       001  1907  51.78  75.63\n",
      "13       001  1908  51.75  76.33\n",
      "14       001  1909  51.42  76.30\n",
      "15       001  1910  50.19  75.12\n",
      "16       001  1911  53.33  77.31\n",
      "17       001  1912  50.55  73.66\n",
      "18       001  1913  51.46  75.77\n",
      "19       001  1914  50.88  74.75\n"
     ]
    }
   ],
   "source": [
    "\n",
    "# Group by 'stateCode' and 'year', then calculate the average of 'min' and 'max'\n",
    "result_df = merged_df.groupby(['stateCode', 'year']).agg({'min': 'mean', 'max': 'mean'}).round(2).reset_index()\n",
    "result_df.to_csv(data_directory + \"/ridge_line.csv\", encoding='utf-8', index=False)\n",
    "# Print the result DataFrame\n",
    "print(result_df.head(20))    "
   ]
  },
  {
   "cell_type": "code",
   "execution_count": null,
   "id": "65727637-370e-4067-bf14-b59b9d5208d0",
   "metadata": {},
   "outputs": [],
   "source": []
  }
 ],
 "metadata": {
  "kernelspec": {
   "display_name": "Python 3 (ipykernel)",
   "language": "python",
   "name": "python3"
  },
  "language_info": {
   "codemirror_mode": {
    "name": "ipython",
    "version": 3
   },
   "file_extension": ".py",
   "mimetype": "text/x-python",
   "name": "python",
   "nbconvert_exporter": "python",
   "pygments_lexer": "ipython3",
   "version": "3.10.8"
  }
 },
 "nbformat": 4,
 "nbformat_minor": 5
}
